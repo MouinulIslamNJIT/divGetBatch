{
 "cells": [
  {
   "cell_type": "code",
   "execution_count": 50,
   "id": "22663a42",
   "metadata": {},
   "outputs": [],
   "source": [
    "import pandas as pd\n",
    "import numpy as np\n",
    "import math\n",
    "from scipy.spatial import distance\n",
    "import scipy"
   ]
  },
  {
   "cell_type": "code",
   "execution_count": 34,
   "id": "77759797",
   "metadata": {},
   "outputs": [],
   "source": [
    "# Author: Jake VanderPlas\n",
    "# License: BSD\n",
    "#   The figure produced by this code is published in the textbook\n",
    "#   \"Statistics, Data Mining, and Machine Learning in Astronomy\" (2013)\n",
    "#   For more information, see http://astroML.github.com\n",
    "#   To report a bug or issue, use the following forum:\n",
    "#    https://groups.google.com/forum/#!forum/astroml-general\n",
    "import numpy as np\n",
    "\n",
    "\n",
    "\n",
    "\n",
    "\n",
    "# We'll create a BallTree class which will recursively subdivide the\n",
    "# space into circular regions.  Note that this is just an example and\n",
    "# shouldn't be used for real computation; instead use the optimized\n",
    "# code in scipy.spatial.cKDTree or sklearn.neighbors.BallTree\n",
    "\n",
    "class BallTree_node:\n",
    "    \n",
    "    def __init__(self,data):\n",
    "        \n",
    "        self.data = np.asarray(data)\n",
    "\n",
    "        # data should be two-dimensional\n",
    "        assert self.data.shape[1] == 2\n",
    "\n",
    "        self.loc = data.mean(0)\n",
    "        self.radius = np.sqrt(np.max(np.sum((self.data - self.loc) ** 2, 1)))\n",
    "        \n",
    "        self.child1 = None\n",
    "        self.child2 = None\n",
    "        self.points = []\n",
    "        self.height = 0\n",
    "        self.id = 0\n",
    "        \n",
    "    def __str__(self):\n",
    "        return \"(x=\"+str(self.x)+\",y=\"+str(self.y)+\")\"\n",
    "    \n",
    "    \n",
    "class BallTree:\n",
    "    \"\"\"Simple Ball tree class\"\"\"\n",
    "\n",
    "    # class initialization function\n",
    "    def __init__(self, data,treeHeight):\n",
    "        self.data = np.asarray(data)\n",
    "        self.treeHeight = treeHeight\n",
    "        self.nodeIdList = []\n",
    "        for i in range(2**treeHeight):\n",
    "             self.nodeIdList.append(0)\n",
    "        self.documentMap = {}   \n",
    "        \n",
    "        for i in range(len(data)):\n",
    "            d = data[i]\n",
    "            self.documentMap[tuple(d)] = np.zeros(self.treeHeight+1, dtype=int)\n",
    "            \n",
    "        self.root = self.__buildTree(data,0)\n",
    "        \n",
    "    def __buildTree(self,data,height):\n",
    "        print(len(data))\n",
    "        if height == self.treeHeight:\n",
    "            return None\n",
    "        self.nodeIdList[height] = self.nodeIdList[height] + 1\n",
    "        if len(data) > 1:\n",
    "            # sort on the dimension with the largest spread\n",
    "            n = BallTree_node(data)\n",
    "            n.points = data\n",
    "            n.height = height\n",
    "            n.id = self.nodeIdList[height]\n",
    "            \n",
    "            largest_dim = np.argmax(data.max(0) - data.min(0))\n",
    "            i_sort = np.argsort(data[:, largest_dim])\n",
    "            data[:] = data[i_sort, :]\n",
    "\n",
    "            # find split point\n",
    "            N = data.shape[0]\n",
    "            half_N = int(N / 2)\n",
    "            split_point = 0.5 * (data[half_N, largest_dim]\n",
    "                                 + data[half_N - 1, largest_dim])\n",
    "\n",
    "            # recursively create subnodes\n",
    "            n.child1 = self.__buildTree(data[half_N:],n.height+1)\n",
    "            n.child2 = self.__buildTree(data[:half_N],n.height+1)\n",
    "            return n\n",
    "        return None\n",
    "    \n",
    "    def traverse(self, node):\n",
    "        members = []\n",
    "        if node:\n",
    "            members += self.traverse(node.child1)\n",
    "            members.append(node)\n",
    "            members += self.traverse(node.child2)\n",
    "        return members"
   ]
  },
  {
   "cell_type": "code",
   "execution_count": 35,
   "id": "0593b757",
   "metadata": {},
   "outputs": [],
   "source": [
    "def min_max_distance(cluster1, cluster2):\n",
    "    #start = timeit.default_timer()\n",
    "    Z =distance.cdist(cluster1, cluster2, 'euclidean')\n",
    "    #print(Z.min()**2,Z.max()**2)\n",
    "    #stop = timeit.default_timer()\n",
    "    #print('Time for mmr: ', stop - start)\n",
    "\n",
    "    return Z.min()**2,Z.max()**2\n",
    "\n",
    "\n",
    "    mindis = float('inf')\n",
    "    maxdis = -1\n",
    "    for i in cluster1:\n",
    "        for j in cluster2:\n",
    "            dis = distance_euclidean(i, j)\n",
    "            if mindis > dis:\n",
    "                mindis = dis\n",
    "                item = (i, j)\n",
    "            if maxdis < dis:\n",
    "                maxdis = dis\n",
    "    return mindis,maxdis"
   ]
  },
  {
   "cell_type": "code",
   "execution_count": 44,
   "id": "224705bd",
   "metadata": {},
   "outputs": [],
   "source": [
    "def createLevelMatrix():\n",
    "    nodeId = []\n",
    "    for i in range(0,len(nodes)):\n",
    "        nodeId.append(-1)\n",
    "    levelMatrix = np.empty(\n",
    "                shape=(height + 1, 2 ** height + 1), dtype=BallTree_node)\n",
    "    for i in range(0,len(nodes)):\n",
    "        levelMatrix[nodes[i].height][nodes[i].id] = nodes[i]\n",
    "        \n",
    "    return levelMatrix"
   ]
  },
  {
   "cell_type": "code",
   "execution_count": 45,
   "id": "7bf4e525",
   "metadata": {},
   "outputs": [],
   "source": [
    "def createDistanceMatrix():\n",
    "    dismatrix = np.empty(\n",
    "        shape=(height + 1, 2 ** height + 1,\n",
    "               2 ** height + 1),\n",
    "        dtype=tuple)\n",
    "    for l in range(0,height):\n",
    "            for i in range(1,2**l+1 ):\n",
    "                for j in range(1,2**l+1 ):\n",
    "                    if (len(levelMatrix[l][i].points) == 0 or len(levelMatrix[l][j].points) == 0):\n",
    "                        return dismatrix\n",
    "                    dismatrix[l, i, j] = min_max_distance(levelMatrix[l][i].points, levelMatrix[l][j].points)\n",
    "                    print(l,i,j,min_max_distance(levelMatrix[l][i].points, levelMatrix[l][j].points))\n",
    "    return dismatrix"
   ]
  },
  {
   "cell_type": "code",
   "execution_count": null,
   "id": "a2ffa8d1",
   "metadata": {},
   "outputs": [],
   "source": []
  },
  {
   "cell_type": "code",
   "execution_count": 46,
   "id": "77395638",
   "metadata": {},
   "outputs": [
    {
     "name": "stdout",
     "output_type": "stream",
     "text": [
      "30\n",
      "15\n",
      "8\n",
      "4\n",
      "4\n",
      "7\n",
      "4\n",
      "3\n",
      "15\n",
      "8\n",
      "4\n",
      "4\n",
      "7\n",
      "4\n",
      "3\n"
     ]
    }
   ],
   "source": [
    "#------------------------------------------------------------\n",
    "# Create a set of structured random points in two dimensions\n",
    "np.random.seed(0)\n",
    "X = np.random.random((30, 2)) * 2 - 1\n",
    "X[:, 1] *= 0.1\n",
    "X[:, 1] += X[:, 0] ** 2\n",
    "\n",
    "#------------------------------------------------------------\n",
    "# Use our Ball Tree class to recursively divide the space\n",
    "height = 3\n",
    "BT = BallTree(X,3)"
   ]
  },
  {
   "cell_type": "code",
   "execution_count": 47,
   "id": "3276baff",
   "metadata": {},
   "outputs": [],
   "source": [
    "nodes = BT.traverse(BT.root)"
   ]
  },
  {
   "cell_type": "code",
   "execution_count": 51,
   "id": "2d9c0c9d",
   "metadata": {},
   "outputs": [
    {
     "data": {
      "text/plain": [
       "array([[None, <__main__.BallTree_node object at 0x000001C2A700B1F0>,\n",
       "        None, None, None, None, None, None, None],\n",
       "       [None, <__main__.BallTree_node object at 0x000001C2A700BD30>,\n",
       "        <__main__.BallTree_node object at 0x000001C2A700B670>, None,\n",
       "        None, None, None, None, None],\n",
       "       [None, <__main__.BallTree_node object at 0x000001C2A700B940>,\n",
       "        <__main__.BallTree_node object at 0x000001C2A700B850>,\n",
       "        <__main__.BallTree_node object at 0x000001C2A700B310>,\n",
       "        <__main__.BallTree_node object at 0x000001C2A700B610>, None,\n",
       "        None, None, None],\n",
       "       [None, None, None, None, None, None, None, None, None]],\n",
       "      dtype=object)"
      ]
     },
     "execution_count": 51,
     "metadata": {},
     "output_type": "execute_result"
    }
   ],
   "source": [
    "levelMatrix = createLevelMatrix()\n",
    "levelMatrix"
   ]
  },
  {
   "cell_type": "code",
   "execution_count": 52,
   "id": "c8f0bad5",
   "metadata": {},
   "outputs": [
    {
     "name": "stdout",
     "output_type": "stream",
     "text": [
      "0 1 1 (0.0, 3.766048207238371)\n",
      "1 1 1 (0.0, 1.8172152322982524)\n",
      "1 1 2 (0.013324693308435597, 3.766048207238371)\n",
      "1 2 1 (0.013324693308435597, 3.766048207238371)\n",
      "1 2 2 (0.0, 1.8648612441858192)\n",
      "2 1 1 (0.0, 1.4355294587012863)\n",
      "2 1 2 (0.00408754766508184, 1.8172152322982524)\n",
      "2 1 3 (0.39833158831285786, 3.766048207238371)\n",
      "2 1 4 (0.04715499192168629, 2.5111893710087707)\n",
      "2 2 1 (0.00408754766508184, 1.8172152322982524)\n",
      "2 2 2 (0.0, 0.13055998612545994)\n",
      "2 2 3 (0.3499110770904938, 2.6801282143767082)\n",
      "2 2 4 (0.013324693308435597, 0.5859751120524317)\n",
      "2 3 1 (0.39833158831285786, 3.766048207238371)\n",
      "2 3 2 (0.3499110770904938, 2.6801282143767082)\n",
      "2 3 3 (0.0, 0.7439007935172708)\n",
      "2 3 4 (0.0384332038815713, 1.8648612441858192)\n",
      "2 4 1 (0.04715499192168629, 2.5111893710087707)\n",
      "2 4 2 (0.013324693308435597, 0.5859751120524317)\n",
      "2 4 3 (0.0384332038815713, 1.8648612441858192)\n",
      "2 4 4 (0.0, 0.11526838781444206)\n"
     ]
    }
   ],
   "source": [
    "dismatrix = createDistanceMatrix()"
   ]
  },
  {
   "cell_type": "code",
   "execution_count": null,
   "id": "ca405b0d",
   "metadata": {},
   "outputs": [],
   "source": []
  }
 ],
 "metadata": {
  "kernelspec": {
   "display_name": "Python 3 (ipykernel)",
   "language": "python",
   "name": "python3"
  },
  "language_info": {
   "codemirror_mode": {
    "name": "ipython",
    "version": 3
   },
   "file_extension": ".py",
   "mimetype": "text/x-python",
   "name": "python",
   "nbconvert_exporter": "python",
   "pygments_lexer": "ipython3",
   "version": "3.9.7"
  }
 },
 "nbformat": 4,
 "nbformat_minor": 5
}
